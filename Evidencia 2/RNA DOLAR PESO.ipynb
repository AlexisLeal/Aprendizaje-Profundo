{
 "cells": [
  {
   "cell_type": "code",
   "execution_count": 1,
   "metadata": {},
   "outputs": [],
   "source": [
    "import tensorflow as tf\n",
    "import numpy as np\n",
    "import matplotlib.pyplot as plt"
   ]
  },
  {
   "cell_type": "markdown",
   "metadata": {},
   "source": [
    "## Datos de entrenamiento"
   ]
  },
  {
   "cell_type": "code",
   "execution_count": 162,
   "metadata": {},
   "outputs": [],
   "source": [
    "peso = np.array([100,25,50,200,20,70,130,500],dtype=float)\n",
    "dolar = np.array([5.04,1.26,2.52,10.08,1.01,3.53,6.55,25.30],dtype=float)\n",
    "dolarYen = np.array([[5.04,736.92],[1.26,184.23],[2.52,368.46],[10.08,1473.86],[1.01,147.39],[3.53,515.85],[6.55,958.01],[25.30,3684.65]],dtype=float)\n",
    "dolarYenLibra = np.array([[5.04,736.92,4.32],\n",
    "                          [1.26,184.23,1.08],\n",
    "                          [2.52,368.46,2.16],\n",
    "                          [10.08,1473.86,8.64],\n",
    "                          [1.01,147.39,0.86],\n",
    "                          [3.53,515.85,3.02],\n",
    "                          [6.55,958.01,5.61],\n",
    "                          [25.30,3684.65,21.59]],dtype=float)"
   ]
  },
  {
   "cell_type": "markdown",
   "metadata": {},
   "source": [
    "# Red Original"
   ]
  },
  {
   "cell_type": "code",
   "execution_count": 3,
   "metadata": {},
   "outputs": [],
   "source": [
    "# No tiene capa de oculta dice que la salida es una (units) y una variable de entrada (input_shape)\n",
    "capa =tf.keras.layers.Dense(units=1,input_shape=[1])\n",
    "modelo=tf.keras.Sequential([capa])\n"
   ]
  },
  {
   "cell_type": "code",
   "execution_count": 4,
   "metadata": {},
   "outputs": [],
   "source": [
    "# El 0.1 es el valor se segso cuando llege a este valor se puede considerar el la red esta optimizada \n",
    "#es decir que el peso ya no se debe modificar por el sesgo llego a 0.1 \n",
    "# NO ES EL ERROR DE LA RED \n",
    "modelo.compile(\n",
    "    optimizer=tf.keras.optimizers.Adam(0.1),\n",
    "    loss=\"mean_squared_error\"\n",
    ")"
   ]
  },
  {
   "cell_type": "code",
   "execution_count": 5,
   "metadata": {},
   "outputs": [
    {
     "name": "stdout",
     "output_type": "stream",
     "text": [
      "Comienza el entramiento\n",
      "Fin del modelo\n"
     ]
    }
   ],
   "source": [
    "print(\"Comienza el entramiento\")\n",
    "historial = modelo.fit(peso,dolar,epochs=1000,verbose=False);\n",
    "print(\"Fin del modelo\")"
   ]
  },
  {
   "cell_type": "code",
   "execution_count": 7,
   "metadata": {},
   "outputs": [
    {
     "data": {
      "text/plain": [
       "[<matplotlib.lines.Line2D at 0x2149f9ee550>]"
      ]
     },
     "execution_count": 7,
     "metadata": {},
     "output_type": "execute_result"
    },
    {
     "data": {
      "image/png": "[encoded data removed]",
      "text/plain": [
       "<Figure size 432x288 with 1 Axes>"
      ]
     },
     "metadata": {
      "needs_background": "light"
     },
     "output_type": "display_data"
    }
   ],
   "source": [
    "plt.xlabel(\"No.ciclos\")\n",
    "plt.ylabel(\"pruebas\")\n",
    "plt.plot(historial.history[\"loss\"])"
   ]
  },
  {
   "cell_type": "code",
   "execution_count": 8,
   "metadata": {},
   "outputs": [
    {
     "name": "stdout",
     "output_type": "stream",
     "text": [
      "Prediccion\n",
      "1/1 [==============================] - 0s 122ms/step\n",
      "El resultado es [[15.166183]]dolares\n"
     ]
    }
   ],
   "source": [
    "print(\"Prediccion\")\n",
    "resultado= modelo.predict([300])\n",
    "print(\"El resultado es\",str(resultado)+\"dolares\")"
   ]
  },
  {
   "cell_type": "markdown",
   "metadata": {},
   "source": [
    "# Red modificada Peso a dolar "
   ]
  },
  {
   "cell_type": "code",
   "execution_count": 122,
   "metadata": {},
   "outputs": [],
   "source": [
    "modelo=tf.keras.Sequential()"
   ]
  },
  {
   "cell_type": "code",
   "execution_count": 123,
   "metadata": {},
   "outputs": [],
   "source": [
    "modelo.add(tf.keras.layers.Dense(4,input_dim=1,activation=\"relu\"))\n",
    "modelo.add(tf.keras.layers.Dense(5,activation=\"relu\"))\n",
    "modelo.add(tf.keras.layers.Dense(7,activation=\"tanh\"))\n",
    "modelo.add(tf.keras.layers.Dense(7,activation=\"tanh\"))\n",
    "modelo.add(tf.keras.layers.Dense(8,activation=\"relu\"))\n",
    "modelo.add(tf.keras.layers.Dense(10,activation=\"relu\"))\n",
    "modelo.add(tf.keras.layers.Dense(30,activation=\"relu\"))\n",
    "modelo.add(tf.keras.layers.Dense(1))"
   ]
  },
  {
   "cell_type": "code",
   "execution_count": 124,
   "metadata": {},
   "outputs": [],
   "source": [
    "modelo.compile(\n",
    "    optimizer=tf.keras.optimizers.Adam(),\n",
    "    loss=\"mean_squared_error\",\n",
    "    metrics=['binary_accuracy']\n",
    ")"
   ]
  },
  {
   "cell_type": "code",
   "execution_count": 125,
   "metadata": {},
   "outputs": [],
   "source": [
    "historial = modelo.fit(peso,dolar,epochs=3000,verbose=False);"
   ]
  },
  {
   "cell_type": "code",
   "execution_count": 126,
   "metadata": {},
   "outputs": [
    {
     "data": {
      "text/plain": [
       "[<matplotlib.lines.Line2D at 0x214a2f98250>]"
      ]
     },
     "execution_count": 126,
     "metadata": {},
     "output_type": "execute_result"
    },
    {
     "data": {
      "image/png": "[encoded data removed]",
      "text/plain": [
       "<Figure size 432x288 with 1 Axes>"
      ]
     },
     "metadata": {
      "needs_background": "light"
     },
     "output_type": "display_data"
    }
   ],
   "source": [
    "plt.xlabel(\"No.ciclos\")\n",
    "plt.ylabel(\"pruebas\")\n",
    "plt.plot(historial.history[\"loss\"])"
   ]
  },
  {
   "cell_type": "code",
   "execution_count": 127,
   "metadata": {},
   "outputs": [],
   "source": [
    "# plt.xlabel(\"Numero de pruebas\")\n",
    "# plt.ylabel(\"Magnitud de perdida\")\n",
    "# plt.plot(historial.history[\"binary_accuracy\"])"
   ]
  },
  {
   "cell_type": "code",
   "execution_count": 128,
   "metadata": {},
   "outputs": [
    {
     "name": "stdout",
     "output_type": "stream",
     "text": [
      "Prediccion\n",
      "1/1 [==============================] - 0s 115ms/step\n",
      "El resultado es [[15.620346]]dolares\n"
     ]
    }
   ],
   "source": [
    "print(\"Prediccion\")\n",
    "resultado= modelo.predict([300])\n",
    "print(\"El resultado es\",str(resultado)+\"dolares\")"
   ]
  },
  {
   "cell_type": "markdown",
   "metadata": {},
   "source": [
    "# Red Neuronal Peso a dolar y yen "
   ]
  },
  {
   "cell_type": "code",
   "execution_count": 154,
   "metadata": {},
   "outputs": [],
   "source": [
    "modelo=tf.keras.Sequential()"
   ]
  },
  {
   "cell_type": "code",
   "execution_count": 155,
   "metadata": {},
   "outputs": [],
   "source": [
    "modelo.add(tf.keras.layers.Dense(16,input_dim=1,activation=\"relu\"))\n",
    "modelo.add(tf.keras.layers.Dense(5,activation=\"relu\"))\n",
    "modelo.add(tf.keras.layers.Dense(7,activation=\"tanh\"))\n",
    "modelo.add(tf.keras.layers.Dense(7,activation=\"tanh\"))\n",
    "modelo.add(tf.keras.layers.Dense(8,activation=\"relu\"))\n",
    "modelo.add(tf.keras.layers.Dense(10,activation=\"relu\"))\n",
    "modelo.add(tf.keras.layers.Dense(30,activation=\"relu\"))\n",
    "modelo.add(tf.keras.layers.Dense(2))"
   ]
  },
  {
   "cell_type": "code",
   "execution_count": 156,
   "metadata": {},
   "outputs": [
    {
     "name": "stdout",
     "output_type": "stream",
     "text": [
      "Model: \"sequential_21\"\n",
      "_________________________________________________________________\n",
      " Layer (type)                Output Shape              Param #   \n",
      "=================================================================\n",
      " dense_93 (Dense)            (None, 16)                32        \n",
      "                                                                 \n",
      " dense_94 (Dense)            (None, 5)                 85        \n",
      "                                                                 \n",
      " dense_95 (Dense)            (None, 7)                 42        \n",
      "                                                                 \n",
      " dense_96 (Dense)            (None, 7)                 56        \n",
      "                                                                 \n",
      " dense_97 (Dense)            (None, 8)                 64        \n",
      "                                                                 \n",
      " dense_98 (Dense)            (None, 10)                90        \n",
      "                                                                 \n",
      " dense_99 (Dense)            (None, 30)                330       \n",
      "                                                                 \n",
      " dense_100 (Dense)           (None, 2)                 62        \n",
      "                                                                 \n",
      "=================================================================\n",
      "Total params: 761\n",
      "Trainable params: 761\n",
      "Non-trainable params: 0\n",
      "_________________________________________________________________\n"
     ]
    }
   ],
   "source": [
    "modelo.summary()"
   ]
  },
  {
   "cell_type": "code",
   "execution_count": 157,
   "metadata": {},
   "outputs": [],
   "source": [
    "modelo.compile(\n",
    "    optimizer=tf.keras.optimizers.Adam(),\n",
    "    loss=\"mean_squared_error\",\n",
    "    # metrics=['binary_accuracy']\n",
    ")"
   ]
  },
  {
   "cell_type": "code",
   "execution_count": 158,
   "metadata": {},
   "outputs": [],
   "source": [
    "historial = modelo.fit(peso,dolarYen,epochs=3000,verbose=False);"
   ]
  },
  {
   "cell_type": "code",
   "execution_count": 159,
   "metadata": {},
   "outputs": [
    {
     "data": {
      "text/plain": [
       "[<matplotlib.lines.Line2D at 0x214a42c0e80>]"
      ]
     },
     "execution_count": 159,
     "metadata": {},
     "output_type": "execute_result"
    },
    {
     "data": {
      "image/png": "[encoded data removed]",
      "text/plain": [
       "<Figure size 432x288 with 1 Axes>"
      ]
     },
     "metadata": {
      "needs_background": "light"
     },
     "output_type": "display_data"
    }
   ],
   "source": [
    "plt.xlabel(\"No.ciclos\")\n",
    "plt.ylabel(\"pruebas\")\n",
    "plt.plot(historial.history[\"loss\"])"
   ]
  },
  {
   "cell_type": "code",
   "execution_count": 160,
   "metadata": {},
   "outputs": [
    {
     "name": "stdout",
     "output_type": "stream",
     "text": [
      "1/1 [==============================] - 0s 121ms/step\n"
     ]
    }
   ],
   "source": [
    "resultado= modelo.predict([300])\n"
   ]
  },
  {
   "cell_type": "code",
   "execution_count": 161,
   "metadata": {},
   "outputs": [
    {
     "name": "stdout",
     "output_type": "stream",
     "text": [
      "El resultado del dolar es 16.60572052001953 y el resultado del yen es 2397.5166015625\n"
     ]
    }
   ],
   "source": [
    "print(f\"El resultado del dolar es {resultado[0][0]} y el resultado del yen es {resultado[0][1]}\")"
   ]
  },
  {
   "cell_type": "markdown",
   "metadata": {},
   "source": [
    "# Red neuronal peso a dolar,yen y libra esterlina"
   ]
  },
  {
   "cell_type": "code",
   "execution_count": 194,
   "metadata": {},
   "outputs": [],
   "source": [
    "modelo=tf.keras.Sequential()"
   ]
  },
  {
   "cell_type": "code",
   "execution_count": 195,
   "metadata": {},
   "outputs": [],
   "source": [
    "modelo.add(tf.keras.layers.Dense(16,input_dim=1,activation=\"relu\"))\n",
    "modelo.add(tf.keras.layers.Dense(5,activation=\"relu\"))\n",
    "modelo.add(tf.keras.layers.Dense(7,activation=\"tanh\"))\n",
    "modelo.add(tf.keras.layers.Dense(7,activation=\"tanh\"))\n",
    "modelo.add(tf.keras.layers.Dense(8,activation=\"relu\"))\n",
    "modelo.add(tf.keras.layers.Dense(10,activation=\"relu\"))\n",
    "modelo.add(tf.keras.layers.Dense(30,activation=\"relu\"))\n",
    "# modelo.add(tf.keras.layers.Dense(30,activation=\"relu\"))\n",
    "modelo.add(tf.keras.layers.Dense(3))"
   ]
  },
  {
   "cell_type": "code",
   "execution_count": 196,
   "metadata": {},
   "outputs": [],
   "source": [
    "modelo.compile(\n",
    "    optimizer=tf.keras.optimizers.Adam(),\n",
    "    loss=\"mean_squared_error\",\n",
    "    # metrics=['binary_accuracy']\n",
    ")"
   ]
  },
  {
   "cell_type": "code",
   "execution_count": 197,
   "metadata": {},
   "outputs": [],
   "source": [
    "historial = modelo.fit(peso,dolarYenLibra,epochs=4000,verbose=False);"
   ]
  },
  {
   "cell_type": "code",
   "execution_count": 198,
   "metadata": {},
   "outputs": [
    {
     "data": {
      "text/plain": [
       "[<matplotlib.lines.Line2D at 0x214ac3416a0>]"
      ]
     },
     "execution_count": 198,
     "metadata": {},
     "output_type": "execute_result"
    },
    {
     "data": {
      "image/png": "[encoded data removed]",
      "text/plain": [
       "<Figure size 432x288 with 1 Axes>"
      ]
     },
     "metadata": {
      "needs_background": "light"
     },
     "output_type": "display_data"
    }
   ],
   "source": [
    "plt.xlabel(\"No.ciclos\")\n",
    "plt.ylabel(\"pruebas\")\n",
    "plt.plot(historial.history[\"loss\"])"
   ]
  },
  {
   "cell_type": "code",
   "execution_count": 199,
   "metadata": {},
   "outputs": [
    {
     "name": "stdout",
     "output_type": "stream",
     "text": [
      "1/1 [==============================] - 0s 118ms/step\n"
     ]
    }
   ],
   "source": [
    "resultado= modelo.predict([300])"
   ]
  },
  {
   "cell_type": "code",
   "execution_count": 200,
   "metadata": {},
   "outputs": [
    {
     "name": "stdout",
     "output_type": "stream",
     "text": [
      "El resultado del dolar es 17.128202438354492 , el resultado del yen es 2493.3017578125 y el resultado de la libra es 14.69284725189209\n"
     ]
    }
   ],
   "source": [
    "print(f\"El resultado del dolar es {resultado[0][0]} , el resultado del yen es {resultado[0][1]} y el resultado de la libra es {resultado[0][2]}\")"
   ]
  },
  {
   "cell_type": "markdown",
   "metadata": {},
   "source": [
    "### Fuentes \n",
    "https://machinelearningmastery.com/build-multi-layer-perceptron-neural-network-models-keras/"
   ]
  },
  {
   "cell_type": "markdown",
   "metadata": {},
   "source": []
  }
 ],
 "metadata": {
  "kernelspec": {
   "display_name": "Python 3.9.2 64-bit",
   "language": "python",
   "name": "python3"
  },
  "language_info": {
   "codemirror_mode": {
    "name": "ipython",
    "version": 3
   },
   "file_extension": ".py",
   "mimetype": "text/x-python",
   "name": "python",
   "nbconvert_exporter": "python",
   "pygments_lexer": "ipython3",
   "version": "3.9.2"
  },
  "orig_nbformat": 4,
  "vscode": {
   "interpreter": {
    "hash": "bedf3320e333df14ca4bc74c84bab1734583bccbbfe6fa0d991819526cdf21dc"
   }
  }
 },
 "nbformat": 4,
 "nbformat_minor": 2
}
